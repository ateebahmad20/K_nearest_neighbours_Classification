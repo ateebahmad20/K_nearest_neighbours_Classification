{
  "nbformat": 4,
  "nbformat_minor": 0,
  "metadata": {
    "colab": {
      "provenance": []
    },
    "kernelspec": {
      "name": "python3",
      "display_name": "Python 3"
    },
    "language_info": {
      "name": "python"
    }
  },
  "cells": [
    {
      "cell_type": "code",
      "source": [
        "import pandas as pd\n",
        "import time\n",
        "from math import sqrt\n",
        "\n",
        "# K_Nearest Neighbour Algorithm from Scratch:\n",
        "\n",
        "def KNN(k):\n",
        "\n",
        "  # A list to store output labels\n",
        "  output = []\n",
        "  \n",
        "  # Extracting Features, and labels from Training Set:\n",
        "  train1 = data.iloc[:, 0] # Leaf Length\n",
        "  train2 = data.iloc[:, 1] # Leaf Width\n",
        "  train3 = data.iloc[:, 2] # Flower Length\n",
        "  train4 = data.iloc[:, 3] # Flower Width\n",
        "  label = data.iloc[:, 4] \n",
        "\n",
        "  # Reading Test Data\n",
        "  test_data = pd.read_excel(\"TestingSet.xlsx\")\n",
        "  \n",
        "  # Extracting Features from Testing Set\n",
        "  test1 = test_data.iloc[:, 0]\n",
        "  test2 = test_data.iloc[:, 1]\n",
        "  test3 = test_data.iloc[:, 2]\n",
        "  test4 = test_data.iloc[:, 3]\n",
        "\n",
        "  # For all testing points\n",
        "  for i in range(len(test1)):\n",
        "  \n",
        "    # A dictionary to store distances from each point\n",
        "    distances = {}\n",
        "\n",
        "    # Calculating Euclidean Distance between points\n",
        "    Euclidean_distance(i, train1, train2, train3, train4, label, test1, test2, test3, test4, distances)\n",
        "\n",
        "    # Sorting distances in increasing order\n",
        "    distances = sorted(distances.items())\n",
        "\n",
        "    # Getting K-nearest neighbours and determining the class based on majority\n",
        "    get_k_neighbours(k, distances, output)\n",
        "  \n",
        "  # Writing the results in test file\n",
        "  test_data[\"plant\"] = output\n",
        "\n",
        "  # Saving it to an Excel file\n",
        "  test_data.to_excel(\"K3_Neighbours_Result.xlsx\", index = False)\n",
        "\n",
        "\n",
        "# A Function to Calculate the Euclidean Distance Between All Points:\n",
        "def Euclidean_distance(i, x1, x2, x3, x4, label, y1, y2, y3, y4, distances):\n",
        "\n",
        "  for j in range(len(x1)):\n",
        "\n",
        "    # Calculate the distance\n",
        "    dist = sqrt((x1[j] - y1[i])**2 + (x2[j] - y2[i])**2 + (x3[j] - y3[i])**2 + (x4[j] - y4[i])**2)\n",
        "\n",
        "    # Storing in dictionary\n",
        "    distances[dist] = label[j]\n",
        "\n",
        "\n",
        "# A function to find K nearest neighbours and predict output based on those neigbours\n",
        "def get_k_neighbours(k, distances, output):\n",
        "\n",
        "  lables = []\n",
        "\n",
        "  for i in range(k):\n",
        "\n",
        "    # Finding K nearest neighbours\n",
        "    lables.append(distances[i][1])\n",
        "\n",
        "  # Finding Output based on majority of the nearest neighbours\n",
        "  output.append(max(set(lables), key = lables.count))\n",
        "\n",
        "if __name__ == \"__main__\":\n",
        "\n",
        "  start = time.time()\n",
        "\n",
        "  # Loading Training Data Set\n",
        "  data = pd.read_excel(\"TrainingSet.xlsx\")\n",
        "\n",
        "  # Specifying value of Neighbours\n",
        "  k = 3\n",
        "\n",
        "  # Applying K-Nearest Neighbours Algorithm\n",
        "  KNN(k)\n",
        "  \n",
        "  end = time.time()\n",
        "  print(\"Time Taken: \", end-start)"
      ],
      "metadata": {
        "colab": {
          "base_uri": "https://localhost:8080/"
        },
        "id": "aJa_sb2D8HMc",
        "outputId": "0a09728c-1758-40c9-afb5-69e06ce83108"
      },
      "execution_count": 134,
      "outputs": [
        {
          "output_type": "stream",
          "name": "stdout",
          "text": [
            "Time Taken:  0.1531519889831543\n"
          ]
        }
      ]
    },
    {
      "cell_type": "code",
      "execution_count": 136,
      "metadata": {
        "colab": {
          "base_uri": "https://localhost:8080/"
        },
        "id": "DoXMW5g_aENr",
        "outputId": "4377f53b-8d5d-45b0-f80f-210b5a78af5a"
      },
      "outputs": [
        {
          "output_type": "stream",
          "name": "stdout",
          "text": [
            "Accuracy of the Model is:  0.9166666666666666\n",
            "Time Taken:  0.07126617431640625\n"
          ]
        }
      ],
      "source": [
        "import pandas as pd\n",
        "from sklearn.model_selection import train_test_split\n",
        "from sklearn.metrics import accuracy_score\n",
        "from sklearn.neighbors import KNeighborsClassifier\n",
        "import time\n",
        "\n",
        "start = time.time()\n",
        "\n",
        "# Reading Data Using Pandas\n",
        "data = pd.read_excel(\"TrainingSet.xlsx\")\n",
        "\n",
        "# Separating Attributes, and labels\n",
        "x = data.iloc[:, 0 : 4]\n",
        "y = data.iloc[:, 4]\n",
        "\n",
        "# Splitting Data Set into 80% Training and 20% Validation Sets\n",
        "x_train, x_val, y_train, y_val = train_test_split(x, y, test_size = 0.2)\n",
        "\n",
        "# Implementing K nearest neighbous classifier\n",
        "# Here, K = 3\n",
        "knn = KNeighborsClassifier(n_neighbors=3)\n",
        "knn.fit(x_train, y_train)\n",
        "\n",
        "# Checking Accuracy of the Model\n",
        "y_pred = knn.predict(x_val)\n",
        "print(\"Accuracy of the Model is: \", accuracy_score(y_val, y_pred))\n",
        "\n",
        "# Predicting Testing Data\n",
        "test_df = pd.read_excel(\"TestingSet.xlsx\")\n",
        "test_labels = knn.predict(test_df.iloc[:, 0 : 4])\n",
        "test_df[\"plant\"] = test_labels\n",
        "\n",
        "# Saving it to an Excel file\n",
        "test_df.to_excel(\"K3_Neighbours_Result.xlsx\")\n",
        "\n",
        "end = time.time()\n",
        "print(\"Time Taken: \", end-start)"
      ]
    },
    {
      "cell_type": "code",
      "source": [
        "import pandas as pd\n",
        "from sklearn.model_selection import train_test_split\n",
        "from sklearn.metrics import accuracy_score\n",
        "from sklearn.neighbors import KNeighborsClassifier\n",
        "\n",
        "# Reading Data Using Pandas\n",
        "data = pd.read_excel(\"TrainingSet.xlsx\")\n",
        "\n",
        "# Separating Attributes, and labels\n",
        "x = data.iloc[:, 0 : 4]\n",
        "y = data.iloc[:, 4]\n",
        "\n",
        "# Splitting Data Set into 80% Training and 20% Validation Sets\n",
        "x_train, x_val, y_train, y_val = train_test_split(x, y, test_size = 0.2)\n",
        "\n",
        "# Implementing K nearest neighbous classifier\n",
        "# Here, K = 5\n",
        "knn = KNeighborsClassifier(n_neighbors=5)\n",
        "knn.fit(x_train, y_train)\n",
        "\n",
        "# Checking Accuracy of the Model\n",
        "y_pred = knn.predict(x_val)\n",
        "print(\"Accuracy of the Model is: \", accuracy_score(y_val, y_pred))\n",
        "\n",
        "# Predicting Testing Data\n",
        "test_df = pd.read_excel(\"TestingSet.xlsx\")\n",
        "test_labels = knn.predict(test_df.iloc[:, 0 : 4])\n",
        "test_df[\"plant\"] = test_labels\n",
        "\n",
        "# Saving it to an Excel file\n",
        "test_df.to_excel(\"K5_Neighbours_Result.xlsx\")"
      ],
      "metadata": {
        "colab": {
          "base_uri": "https://localhost:8080/"
        },
        "id": "fYTNcAo77S8e",
        "outputId": "eefb2faf-d67b-4d29-b022-dd0089bae01f"
      },
      "execution_count": null,
      "outputs": [
        {
          "output_type": "stream",
          "name": "stdout",
          "text": [
            "Accuracy of the Model is:  0.9583333333333334\n"
          ]
        }
      ]
    },
    {
      "cell_type": "code",
      "source": [
        "import pandas as pd\n",
        "from sklearn.model_selection import train_test_split\n",
        "from sklearn.metrics import accuracy_score\n",
        "from sklearn.neighbors import KNeighborsClassifier\n",
        "\n",
        "# Reading Data Using Pandas\n",
        "data = pd.read_excel(\"TrainingSet.xlsx\")\n",
        "\n",
        "# Separating Attributes, and labels\n",
        "x = data.iloc[:, 0 : 4]\n",
        "y = data.iloc[:, 4]\n",
        "\n",
        "# Splitting Data Set into 80% Training and 20% Validation Sets\n",
        "x_train, x_val, y_train, y_val = train_test_split(x, y, test_size = 0.2)\n",
        "\n",
        "# Implementing K nearest neighbous classifier\n",
        "# Here, K = 7\n",
        "knn = KNeighborsClassifier(n_neighbors=7)\n",
        "knn.fit(x_train, y_train)\n",
        "\n",
        "# Checking Accuracy of the Model\n",
        "y_pred = knn.predict(x_val)\n",
        "print(\"Accuracy of the Model is: \", accuracy_score(y_val, y_pred))\n",
        "\n",
        "# Predicting Testing Data\n",
        "test_df = pd.read_excel(\"TestingSet.xlsx\")\n",
        "test_labels = knn.predict(test_df.iloc[:, 0 : 4])\n",
        "test_df[\"plant\"] = test_labels\n",
        "\n",
        "# Saving it to an Excel file\n",
        "test_df.to_excel(\"K7_Neighbours_Result.xlsx\")"
      ],
      "metadata": {
        "colab": {
          "base_uri": "https://localhost:8080/"
        },
        "id": "lXGxPIh37TnZ",
        "outputId": "3ad8a8b7-fa41-46d8-df63-3d44eaeb6c14"
      },
      "execution_count": null,
      "outputs": [
        {
          "output_type": "stream",
          "name": "stdout",
          "text": [
            "Accuracy of the Model is:  1.0\n"
          ]
        }
      ]
    }
  ]
}